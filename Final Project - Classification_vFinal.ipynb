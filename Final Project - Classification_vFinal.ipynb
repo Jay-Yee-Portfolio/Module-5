{
 "cells": [
  {
   "cell_type": "code",
   "execution_count": 5,
   "id": "14879956",
   "metadata": {},
   "outputs": [],
   "source": [
    "import pandas as pd\n",
    "import seaborn as sns\n",
    "import numpy as np\n",
    "import matplotlib.pyplot as plt\n",
    "import seaborn as sns\n",
    "import imblearn\n",
    "from collections import Counter"
   ]
  },
  {
   "cell_type": "code",
   "execution_count": 6,
   "id": "9a7c28ad",
   "metadata": {},
   "outputs": [],
   "source": [
    "df = pd.read_csv('Classification_Datasest.csv')"
   ]
  },
  {
   "cell_type": "code",
   "execution_count": 7,
   "id": "1ebc7cac",
   "metadata": {},
   "outputs": [],
   "source": [
    "#Set 'device' column to 0 (Staff Member) / 1 (Trump)\n",
    "\n",
    "df.device.replace(to_replace = 'Staff Member' , value = 0 , inplace = True)\n",
    "df.device.replace(to_replace = 'Trump' , value = 1 , inplace = True)"
   ]
  },
  {
   "cell_type": "code",
   "execution_count": 8,
   "id": "2cd29e4f",
   "metadata": {},
   "outputs": [
    {
     "data": {
      "text/plain": [
       "0    3381\n",
       "1    2056\n",
       "Name: device, dtype: int64"
      ]
     },
     "execution_count": 8,
     "metadata": {},
     "output_type": "execute_result"
    }
   ],
   "source": [
    "df.device.value_counts()"
   ]
  },
  {
   "cell_type": "markdown",
   "id": "93b942b8",
   "metadata": {},
   "source": [
    "## Create Train / Test Dataset"
   ]
  },
  {
   "cell_type": "code",
   "execution_count": 9,
   "id": "13f7a1af",
   "metadata": {},
   "outputs": [],
   "source": [
    "X = df.drop(['text' , 'date' , 'time' , 'neg' , 'neu' , 'pos' , 'device'] , axis = 1)\n",
    "y = df['device']"
   ]
  },
  {
   "cell_type": "code",
   "execution_count": 10,
   "id": "767ae68c",
   "metadata": {},
   "outputs": [
    {
     "data": {
      "text/html": [
       "<div>\n",
       "<style scoped>\n",
       "    .dataframe tbody tr th:only-of-type {\n",
       "        vertical-align: middle;\n",
       "    }\n",
       "\n",
       "    .dataframe tbody tr th {\n",
       "        vertical-align: top;\n",
       "    }\n",
       "\n",
       "    .dataframe thead th {\n",
       "        text-align: right;\n",
       "    }\n",
       "</style>\n",
       "<table border=\"1\" class=\"dataframe\">\n",
       "  <thead>\n",
       "    <tr style=\"text-align: right;\">\n",
       "      <th></th>\n",
       "      <th>favorites</th>\n",
       "      <th>retweets</th>\n",
       "      <th>punctuation</th>\n",
       "      <th>url</th>\n",
       "      <th>hour</th>\n",
       "      <th>month</th>\n",
       "      <th>sentiment</th>\n",
       "      <th>topic</th>\n",
       "    </tr>\n",
       "  </thead>\n",
       "  <tbody>\n",
       "    <tr>\n",
       "      <th>0</th>\n",
       "      <td>419</td>\n",
       "      <td>275</td>\n",
       "      <td>1</td>\n",
       "      <td>0</td>\n",
       "      <td>12</td>\n",
       "      <td>6</td>\n",
       "      <td>0.5622</td>\n",
       "      <td>1</td>\n",
       "    </tr>\n",
       "    <tr>\n",
       "      <th>1</th>\n",
       "      <td>135</td>\n",
       "      <td>46</td>\n",
       "      <td>0</td>\n",
       "      <td>1</td>\n",
       "      <td>12</td>\n",
       "      <td>6</td>\n",
       "      <td>0.4404</td>\n",
       "      <td>8</td>\n",
       "    </tr>\n",
       "    <tr>\n",
       "      <th>2</th>\n",
       "      <td>763</td>\n",
       "      <td>400</td>\n",
       "      <td>1</td>\n",
       "      <td>0</td>\n",
       "      <td>13</td>\n",
       "      <td>6</td>\n",
       "      <td>0.0000</td>\n",
       "      <td>5</td>\n",
       "    </tr>\n",
       "    <tr>\n",
       "      <th>3</th>\n",
       "      <td>164</td>\n",
       "      <td>66</td>\n",
       "      <td>0</td>\n",
       "      <td>0</td>\n",
       "      <td>13</td>\n",
       "      <td>6</td>\n",
       "      <td>0.3182</td>\n",
       "      <td>5</td>\n",
       "    </tr>\n",
       "    <tr>\n",
       "      <th>4</th>\n",
       "      <td>306</td>\n",
       "      <td>175</td>\n",
       "      <td>1</td>\n",
       "      <td>1</td>\n",
       "      <td>14</td>\n",
       "      <td>6</td>\n",
       "      <td>0.0000</td>\n",
       "      <td>7</td>\n",
       "    </tr>\n",
       "    <tr>\n",
       "      <th>...</th>\n",
       "      <td>...</td>\n",
       "      <td>...</td>\n",
       "      <td>...</td>\n",
       "      <td>...</td>\n",
       "      <td>...</td>\n",
       "      <td>...</td>\n",
       "      <td>...</td>\n",
       "      <td>...</td>\n",
       "    </tr>\n",
       "    <tr>\n",
       "      <th>5432</th>\n",
       "      <td>76003</td>\n",
       "      <td>16366</td>\n",
       "      <td>2</td>\n",
       "      <td>1</td>\n",
       "      <td>17</td>\n",
       "      <td>3</td>\n",
       "      <td>0.8286</td>\n",
       "      <td>0</td>\n",
       "    </tr>\n",
       "    <tr>\n",
       "      <th>5433</th>\n",
       "      <td>58348</td>\n",
       "      <td>11477</td>\n",
       "      <td>1</td>\n",
       "      <td>1</td>\n",
       "      <td>13</td>\n",
       "      <td>3</td>\n",
       "      <td>0.7906</td>\n",
       "      <td>5</td>\n",
       "    </tr>\n",
       "    <tr>\n",
       "      <th>5434</th>\n",
       "      <td>88209</td>\n",
       "      <td>18187</td>\n",
       "      <td>1</td>\n",
       "      <td>0</td>\n",
       "      <td>14</td>\n",
       "      <td>3</td>\n",
       "      <td>0.7584</td>\n",
       "      <td>5</td>\n",
       "    </tr>\n",
       "    <tr>\n",
       "      <th>5435</th>\n",
       "      <td>43089</td>\n",
       "      <td>8203</td>\n",
       "      <td>0</td>\n",
       "      <td>0</td>\n",
       "      <td>14</td>\n",
       "      <td>3</td>\n",
       "      <td>0.0000</td>\n",
       "      <td>2</td>\n",
       "    </tr>\n",
       "    <tr>\n",
       "      <th>5436</th>\n",
       "      <td>99333</td>\n",
       "      <td>17000</td>\n",
       "      <td>1</td>\n",
       "      <td>0</td>\n",
       "      <td>22</td>\n",
       "      <td>3</td>\n",
       "      <td>0.9353</td>\n",
       "      <td>8</td>\n",
       "    </tr>\n",
       "  </tbody>\n",
       "</table>\n",
       "<p>5437 rows × 8 columns</p>\n",
       "</div>"
      ],
      "text/plain": [
       "      favorites  retweets  punctuation  url  hour  month  sentiment  topic\n",
       "0           419       275            1    0    12      6     0.5622      1\n",
       "1           135        46            0    1    12      6     0.4404      8\n",
       "2           763       400            1    0    13      6     0.0000      5\n",
       "3           164        66            0    0    13      6     0.3182      5\n",
       "4           306       175            1    1    14      6     0.0000      7\n",
       "...         ...       ...          ...  ...   ...    ...        ...    ...\n",
       "5432      76003     16366            2    1    17      3     0.8286      0\n",
       "5433      58348     11477            1    1    13      3     0.7906      5\n",
       "5434      88209     18187            1    0    14      3     0.7584      5\n",
       "5435      43089      8203            0    0    14      3     0.0000      2\n",
       "5436      99333     17000            1    0    22      3     0.9353      8\n",
       "\n",
       "[5437 rows x 8 columns]"
      ]
     },
     "execution_count": 10,
     "metadata": {},
     "output_type": "execute_result"
    }
   ],
   "source": [
    "X"
   ]
  },
  {
   "cell_type": "code",
   "execution_count": 11,
   "id": "33084068",
   "metadata": {},
   "outputs": [],
   "source": [
    "from sklearn.model_selection import train_test_split\n",
    "\n",
    "#Split data into 3 sets: 80% train, 20% test\n",
    "X_train, X_test, y_train, y_test = train_test_split(X, y, test_size=0.2, random_state=7)"
   ]
  },
  {
   "cell_type": "markdown",
   "id": "41b95c14",
   "metadata": {},
   "source": [
    "## Feature Scaling and Splitting Dataset"
   ]
  },
  {
   "cell_type": "code",
   "execution_count": 12,
   "id": "e6bfbecf",
   "metadata": {},
   "outputs": [],
   "source": [
    "from sklearn import preprocessing\n",
    "from sklearn.preprocessing import StandardScaler"
   ]
  },
  {
   "cell_type": "code",
   "execution_count": 13,
   "id": "c96a965a",
   "metadata": {},
   "outputs": [
    {
     "data": {
      "text/plain": [
       "StandardScaler()"
      ]
     },
     "execution_count": 13,
     "metadata": {},
     "output_type": "execute_result"
    }
   ],
   "source": [
    "#Fit scaler model\n",
    "scaler = StandardScaler()\n",
    "scaler.fit(X_train.values)"
   ]
  },
  {
   "cell_type": "code",
   "execution_count": 15,
   "id": "71dc4825",
   "metadata": {},
   "outputs": [],
   "source": [
    "#Scaling Training Data\n",
    "X_tr = scaler.transform(X_train.values)\n",
    "X_te = scaler.transform(X_test.values)"
   ]
  },
  {
   "cell_type": "code",
   "execution_count": 16,
   "id": "e58c4317",
   "metadata": {},
   "outputs": [
    {
     "data": {
      "text/plain": [
       "array([1., 1., 1., 1., 1., 1., 1., 1.])"
      ]
     },
     "execution_count": 16,
     "metadata": {},
     "output_type": "execute_result"
    }
   ],
   "source": [
    "#Confirm scaling worked by checking standard deviation of features\n",
    "X_tr.std(axis=0)"
   ]
  },
  {
   "cell_type": "code",
   "execution_count": 17,
   "id": "18ae1bbd",
   "metadata": {},
   "outputs": [
    {
     "data": {
      "text/plain": [
       "array([-6.20846722e-17,  5.39156364e-17, -3.26761433e-17,  1.12732694e-16,\n",
       "       -3.02254325e-17,  1.25803152e-16, -2.53240110e-17,  1.14366502e-16])"
      ]
     },
     "execution_count": 17,
     "metadata": {},
     "output_type": "execute_result"
    }
   ],
   "source": [
    "#Confirm scaling worked by checking mean of features\n",
    "X_tr.mean(axis=0)"
   ]
  },
  {
   "cell_type": "code",
   "execution_count": 18,
   "id": "42275bda",
   "metadata": {},
   "outputs": [
    {
     "data": {
      "text/plain": [
       "(4349, 8)"
      ]
     },
     "execution_count": 18,
     "metadata": {},
     "output_type": "execute_result"
    }
   ],
   "source": [
    "X_tr.shape"
   ]
  },
  {
   "cell_type": "markdown",
   "id": "3713e5f6",
   "metadata": {},
   "source": [
    "### Buliding Classification Models\n",
    "\n",
    "Creating LogReg and Naive Bayes models and plotting out the ROC Curve to visualize fit then a confusion matrix to compare results."
   ]
  },
  {
   "cell_type": "code",
   "execution_count": 20,
   "id": "0e5c0a9f",
   "metadata": {},
   "outputs": [],
   "source": [
    "from sklearn.metrics import roc_auc_score, roc_curve\n",
    "from sklearn.linear_model import LogisticRegression\n",
    "from sklearn.neighbors import KNeighborsClassifier\n",
    "from sklearn.ensemble import RandomForestClassifier\n",
    "import xgboost as xgb\n",
    "from sklearn.metrics import accuracy_score, confusion_matrix, f1_score , precision_score"
   ]
  },
  {
   "cell_type": "markdown",
   "id": "1b5cbad6",
   "metadata": {},
   "source": [
    "### Logistic Regression Model"
   ]
  },
  {
   "cell_type": "code",
   "execution_count": 114,
   "id": "9b150013",
   "metadata": {},
   "outputs": [],
   "source": [
    "#Logistic Regression Baseline Model\n",
    "lr = LogisticRegression(C=10)\n",
    "\n",
    "lr.fit(X_tr, y_train)\n",
    "y_pred = lr.predict(X_te)"
   ]
  },
  {
   "cell_type": "code",
   "execution_count": 115,
   "id": "cf045213",
   "metadata": {},
   "outputs": [
    {
     "data": {
      "text/html": [
       "<div>\n",
       "<style scoped>\n",
       "    .dataframe tbody tr th:only-of-type {\n",
       "        vertical-align: middle;\n",
       "    }\n",
       "\n",
       "    .dataframe tbody tr th {\n",
       "        vertical-align: top;\n",
       "    }\n",
       "\n",
       "    .dataframe thead th {\n",
       "        text-align: right;\n",
       "    }\n",
       "</style>\n",
       "<table border=\"1\" class=\"dataframe\">\n",
       "  <thead>\n",
       "    <tr style=\"text-align: right;\">\n",
       "      <th></th>\n",
       "      <th>LogReg</th>\n",
       "    </tr>\n",
       "  </thead>\n",
       "  <tbody>\n",
       "    <tr>\n",
       "      <th>Accuracy</th>\n",
       "      <td>0.804</td>\n",
       "    </tr>\n",
       "    <tr>\n",
       "      <th>Precision</th>\n",
       "      <td>0.669</td>\n",
       "    </tr>\n",
       "    <tr>\n",
       "      <th>Recall</th>\n",
       "      <td>0.9</td>\n",
       "    </tr>\n",
       "    <tr>\n",
       "      <th>F1 Score</th>\n",
       "      <td>0.767</td>\n",
       "    </tr>\n",
       "  </tbody>\n",
       "</table>\n",
       "</div>"
      ],
      "text/plain": [
       "          LogReg\n",
       "Accuracy   0.804\n",
       "Precision  0.669\n",
       "Recall       0.9\n",
       "F1 Score   0.767"
      ]
     },
     "execution_count": 115,
     "metadata": {},
     "output_type": "execute_result"
    },
    {
     "data": {
      "image/png": "[encoded data removed]",
      "text/plain": [
       "<Figure size 600x400 with 2 Axes>"
      ]
     },
     "metadata": {
      "needs_background": "light"
     },
     "output_type": "display_data"
    }
   ],
   "source": [
    "#Log Reg Confusion matrix\n",
    "lr_cm = confusion_matrix(y_test, y_pred)\n",
    "\n",
    "plt.figure(dpi=100)\n",
    "sns.heatmap(lr_cm, cmap=plt.cm.Blues, annot=True, square=True, fmt = 'd',\n",
    "           xticklabels=['Trump','Staff Member'],\n",
    "           yticklabels=['Trump','Staff Member'])\n",
    "plt.xlabel('Predicted User')\n",
    "plt.ylabel('Actual User')\n",
    "plt.title('LogReg Confusion Matrix')\n",
    "plt.yticks(rotation=0);\n",
    "\n",
    "true_neg, false_pos = lr_cm[0]\n",
    "false_neg, true_pos = lr_cm[1]\n",
    "\n",
    "accuracy = round((true_pos + true_neg) / (true_pos + true_neg + false_pos + false_neg),3)\n",
    "precision = round((true_pos) / (true_pos + false_pos),3)\n",
    "recall = round((true_pos) / (true_pos + false_neg),3)\n",
    "f1 = round(2 * (precision * recall) / (precision + recall),3)\n",
    "\n",
    "lr_temp = pd.DataFrame(columns = ['LogReg'] , \n",
    "                       index = ['Accuracy', 'Precision', 'Recall', 'F1 Score'])\n",
    "\n",
    "lr_temp.loc['Accuracy'] = accuracy\n",
    "lr_temp.loc['Precision'] = precision\n",
    "lr_temp.loc['Recall'] = recall\n",
    "lr_temp.loc['F1 Score'] = f1\n",
    "\n",
    "lr_temp"
   ]
  },
  {
   "cell_type": "markdown",
   "id": "10084020",
   "metadata": {},
   "source": [
    "### XGBoost Model"
   ]
  },
  {
   "cell_type": "code",
   "execution_count": 116,
   "id": "41cbc3d3",
   "metadata": {},
   "outputs": [
    {
     "name": "stdout",
     "output_type": "stream",
     "text": [
      "[00:59:25] WARNING: C:/Users/Administrator/workspace/xgboost-win64_release_1.5.1/src/learner.cc:1115: Starting in XGBoost 1.3.0, the default evaluation metric used with the objective 'binary:logistic' was changed from 'error' to 'logloss'. Explicitly set eval_metric if you'd like to restore the old behavior.\n"
     ]
    },
    {
     "name": "stderr",
     "output_type": "stream",
     "text": [
      "C:\\Users\\jayju\\anaconda3\\lib\\site-packages\\xgboost\\sklearn.py:1224: UserWarning: The use of label encoder in XGBClassifier is deprecated and will be removed in a future release. To remove this warning, do the following: 1) Pass option use_label_encoder=False when constructing XGBClassifier object; and 2) Encode your labels (y) as integers starting with 0, i.e. 0, 1, 2, ..., [num_class - 1].\n",
      "  warnings.warn(label_encoder_deprecation_msg, UserWarning)\n"
     ]
    }
   ],
   "source": [
    "#XGBoost Model\n",
    "xgb_cl = xgb.XGBClassifier(n_estimators = 100 , max_depth = 5) \n",
    "\n",
    "xgb_cl.fit(X_tr, y_train)\n",
    "y_pred = xgb_cl.predict(X_te)"
   ]
  },
  {
   "cell_type": "code",
   "execution_count": 117,
   "id": "3ecdb94e",
   "metadata": {},
   "outputs": [
    {
     "data": {
      "text/html": [
       "<div>\n",
       "<style scoped>\n",
       "    .dataframe tbody tr th:only-of-type {\n",
       "        vertical-align: middle;\n",
       "    }\n",
       "\n",
       "    .dataframe tbody tr th {\n",
       "        vertical-align: top;\n",
       "    }\n",
       "\n",
       "    .dataframe thead th {\n",
       "        text-align: right;\n",
       "    }\n",
       "</style>\n",
       "<table border=\"1\" class=\"dataframe\">\n",
       "  <thead>\n",
       "    <tr style=\"text-align: right;\">\n",
       "      <th></th>\n",
       "      <th>XGBoost</th>\n",
       "    </tr>\n",
       "  </thead>\n",
       "  <tbody>\n",
       "    <tr>\n",
       "      <th>Accuracy</th>\n",
       "      <td>0.858</td>\n",
       "    </tr>\n",
       "    <tr>\n",
       "      <th>Precision</th>\n",
       "      <td>0.785</td>\n",
       "    </tr>\n",
       "    <tr>\n",
       "      <th>Recall</th>\n",
       "      <td>0.831</td>\n",
       "    </tr>\n",
       "    <tr>\n",
       "      <th>F1 Score</th>\n",
       "      <td>0.807</td>\n",
       "    </tr>\n",
       "  </tbody>\n",
       "</table>\n",
       "</div>"
      ],
      "text/plain": [
       "          XGBoost\n",
       "Accuracy    0.858\n",
       "Precision   0.785\n",
       "Recall      0.831\n",
       "F1 Score    0.807"
      ]
     },
     "execution_count": 117,
     "metadata": {},
     "output_type": "execute_result"
    },
    {
     "data": {
      "image/png": "[encoded data removed]",
      "text/plain": [
       "<Figure size 600x400 with 2 Axes>"
      ]
     },
     "metadata": {
      "needs_background": "light"
     },
     "output_type": "display_data"
    }
   ],
   "source": [
    "#XGBoost confusion matrix\n",
    "xgb_cm = confusion_matrix(y_test, y_pred)\n",
    "\n",
    "plt.figure(dpi=100)\n",
    "sns.heatmap(xgb_cm, cmap=plt.cm.Blues, annot=True, square=True, fmt = 'd',\n",
    "           xticklabels=['Trump','Staff Member'],\n",
    "           yticklabels=['Trump','Staff Member'])\n",
    "plt.xlabel('Predicted User')\n",
    "plt.ylabel('Actual User')\n",
    "plt.title('XGBoost Confusion Matrix')\n",
    "plt.yticks(rotation=0);\n",
    "\n",
    "true_neg, false_pos = xgb_cm[0]\n",
    "false_neg, true_pos = xgb_cm[1]\n",
    "\n",
    "accuracy = round((true_pos + true_neg) / (true_pos + true_neg + false_pos + false_neg),3)\n",
    "precision = round((true_pos) / (true_pos + false_pos),3)\n",
    "recall = round((true_pos) / (true_pos + false_neg),3)\n",
    "f1 = round(2 * (precision * recall) / (precision + recall),3)\n",
    "\n",
    "xgb_temp = pd.DataFrame(columns = ['XGBoost'] , \n",
    "                       index = ['Accuracy', 'Precision', 'Recall', 'F1 Score'])\n",
    "\n",
    "xgb_temp.loc['Accuracy'] = accuracy\n",
    "xgb_temp.loc['Precision'] = precision\n",
    "xgb_temp.loc['Recall'] = recall\n",
    "xgb_temp.loc['F1 Score'] = f1\n",
    "\n",
    "xgb_temp"
   ]
  },
  {
   "cell_type": "markdown",
   "id": "1392940d",
   "metadata": {},
   "source": [
    "### Random Forest Model"
   ]
  },
  {
   "cell_type": "code",
   "execution_count": 118,
   "id": "ba9b883c",
   "metadata": {},
   "outputs": [
    {
     "name": "stderr",
     "output_type": "stream",
     "text": [
      "C:\\Users\\jayju\\anaconda3\\lib\\site-packages\\sklearn\\base.py:443: UserWarning: X has feature names, but RandomForestClassifier was fitted without feature names\n",
      "  warnings.warn(\n"
     ]
    }
   ],
   "source": [
    "#Random Forest Baseline Model\n",
    "rf = RandomForestClassifier(max_depth = 10)\n",
    "\n",
    "rf.fit(X_tr, y_train)\n",
    "y_pred = rf.predict(X_test)"
   ]
  },
  {
   "cell_type": "code",
   "execution_count": 119,
   "id": "5473b0c5",
   "metadata": {},
   "outputs": [
    {
     "data": {
      "text/html": [
       "<div>\n",
       "<style scoped>\n",
       "    .dataframe tbody tr th:only-of-type {\n",
       "        vertical-align: middle;\n",
       "    }\n",
       "\n",
       "    .dataframe tbody tr th {\n",
       "        vertical-align: top;\n",
       "    }\n",
       "\n",
       "    .dataframe thead th {\n",
       "        text-align: right;\n",
       "    }\n",
       "</style>\n",
       "<table border=\"1\" class=\"dataframe\">\n",
       "  <thead>\n",
       "    <tr style=\"text-align: right;\">\n",
       "      <th></th>\n",
       "      <th>Random Forest</th>\n",
       "    </tr>\n",
       "  </thead>\n",
       "  <tbody>\n",
       "    <tr>\n",
       "      <th>Accuracy</th>\n",
       "      <td>0.767</td>\n",
       "    </tr>\n",
       "    <tr>\n",
       "      <th>Precision</th>\n",
       "      <td>0.608</td>\n",
       "    </tr>\n",
       "    <tr>\n",
       "      <th>Recall</th>\n",
       "      <td>0.995</td>\n",
       "    </tr>\n",
       "    <tr>\n",
       "      <th>F1 Score</th>\n",
       "      <td>0.755</td>\n",
       "    </tr>\n",
       "  </tbody>\n",
       "</table>\n",
       "</div>"
      ],
      "text/plain": [
       "          Random Forest\n",
       "Accuracy          0.767\n",
       "Precision         0.608\n",
       "Recall            0.995\n",
       "F1 Score          0.755"
      ]
     },
     "execution_count": 119,
     "metadata": {},
     "output_type": "execute_result"
    },
    {
     "data": {
      "image/png": "[encoded data removed]",
      "text/plain": [
       "<Figure size 600x400 with 2 Axes>"
      ]
     },
     "metadata": {
      "needs_background": "light"
     },
     "output_type": "display_data"
    }
   ],
   "source": [
    "#Random Forest confusion matrix\n",
    "rf_cm = confusion_matrix(y_test, y_pred)\n",
    "\n",
    "plt.figure(dpi=100)\n",
    "sns.heatmap(rf_cm, cmap=plt.cm.Blues, annot=True, square=True, fmt = 'd',\n",
    "           xticklabels=['Trump','Staff Member'],\n",
    "           yticklabels=['Trump','Staff Member'])\n",
    "plt.xlabel('Predicted User')\n",
    "plt.ylabel('Actual User')\n",
    "plt.title('Random Forest Confusion Matrix')\n",
    "plt.yticks(rotation=0);\n",
    "\n",
    "true_neg, false_pos = rf_cm[0]\n",
    "false_neg, true_pos = rf_cm[1]\n",
    "\n",
    "accuracy = round((true_pos + true_neg) / (true_pos + true_neg + false_pos + false_neg),3)\n",
    "precision = round((true_pos) / (true_pos + false_pos),3)\n",
    "recall = round((true_pos) / (true_pos + false_neg),3)\n",
    "f1 = round(2 * (precision * recall) / (precision + recall),3)\n",
    "\n",
    "rf_temp = pd.DataFrame(columns = ['Random Forest'] , \n",
    "                       index = ['Accuracy', 'Precision', 'Recall', 'F1 Score'])\n",
    "\n",
    "rf_temp.loc['Accuracy'] = accuracy\n",
    "rf_temp.loc['Precision'] = precision\n",
    "rf_temp.loc['Recall'] = recall\n",
    "rf_temp.loc['F1 Score'] = f1\n",
    "\n",
    "rf_temp"
   ]
  },
  {
   "cell_type": "markdown",
   "id": "70f6408c",
   "metadata": {},
   "source": [
    "### kNN Model"
   ]
  },
  {
   "cell_type": "code",
   "execution_count": 120,
   "id": "770a5c7d",
   "metadata": {},
   "outputs": [
    {
     "name": "stderr",
     "output_type": "stream",
     "text": [
      "C:\\Users\\jayju\\anaconda3\\lib\\site-packages\\sklearn\\base.py:443: UserWarning: X has feature names, but KNeighborsClassifier was fitted without feature names\n",
      "  warnings.warn(\n"
     ]
    }
   ],
   "source": [
    "#KNN Baseline Model\n",
    "kNN = KNeighborsClassifier(n_neighbors = 3)\n",
    "\n",
    "kNN.fit(X_tr, y_train)\n",
    "y_pred = kNN.predict(X_test)"
   ]
  },
  {
   "cell_type": "code",
   "execution_count": 121,
   "id": "2c2ae3b4",
   "metadata": {},
   "outputs": [
    {
     "data": {
      "text/html": [
       "<div>\n",
       "<style scoped>\n",
       "    .dataframe tbody tr th:only-of-type {\n",
       "        vertical-align: middle;\n",
       "    }\n",
       "\n",
       "    .dataframe tbody tr th {\n",
       "        vertical-align: top;\n",
       "    }\n",
       "\n",
       "    .dataframe thead th {\n",
       "        text-align: right;\n",
       "    }\n",
       "</style>\n",
       "<table border=\"1\" class=\"dataframe\">\n",
       "  <thead>\n",
       "    <tr style=\"text-align: right;\">\n",
       "      <th></th>\n",
       "      <th>kNN</th>\n",
       "    </tr>\n",
       "  </thead>\n",
       "  <tbody>\n",
       "    <tr>\n",
       "      <th>Accuracy</th>\n",
       "      <td>0.359</td>\n",
       "    </tr>\n",
       "    <tr>\n",
       "      <th>Precision</th>\n",
       "      <td>0.359</td>\n",
       "    </tr>\n",
       "    <tr>\n",
       "      <th>Recall</th>\n",
       "      <td>1.0</td>\n",
       "    </tr>\n",
       "    <tr>\n",
       "      <th>F1 Score</th>\n",
       "      <td>0.528</td>\n",
       "    </tr>\n",
       "  </tbody>\n",
       "</table>\n",
       "</div>"
      ],
      "text/plain": [
       "             kNN\n",
       "Accuracy   0.359\n",
       "Precision  0.359\n",
       "Recall       1.0\n",
       "F1 Score   0.528"
      ]
     },
     "execution_count": 121,
     "metadata": {},
     "output_type": "execute_result"
    },
    {
     "data": {
      "image/png": "[encoded data removed]",
      "text/plain": [
       "<Figure size 600x400 with 2 Axes>"
      ]
     },
     "metadata": {
      "needs_background": "light"
     },
     "output_type": "display_data"
    }
   ],
   "source": [
    "#kNN confusion matrix\n",
    "kNN_cm = confusion_matrix(y_test, y_pred)\n",
    "\n",
    "plt.figure(dpi=100)\n",
    "sns.heatmap(kNN_cm, cmap=plt.cm.Blues, annot=True, square=True, fmt = 'd',\n",
    "           xticklabels=['Trump','Staff Member'],\n",
    "           yticklabels=['Trump','Staff Member'])\n",
    "plt.xlabel('Predicted User')\n",
    "plt.ylabel('Actual User')\n",
    "plt.title('k-NN Confusion Matrix')\n",
    "plt.yticks(rotation=0);\n",
    "\n",
    "true_neg, false_pos = kNN_cm[0]\n",
    "false_neg, true_pos = kNN_cm[1]\n",
    "\n",
    "accuracy = round((true_pos + true_neg) / (true_pos + true_neg + false_pos + false_neg),3)\n",
    "precision = round((true_pos) / (true_pos + false_pos),3)\n",
    "recall = round((true_pos) / (true_pos + false_neg),3)\n",
    "f1 = round(2 * (precision * recall) / (precision + recall),3)\n",
    "\n",
    "kNN_temp = pd.DataFrame(columns = ['kNN'] , \n",
    "                       index = ['Accuracy', 'Precision', 'Recall', 'F1 Score'])\n",
    "\n",
    "kNN_temp.loc['Accuracy'] = accuracy\n",
    "kNN_temp.loc['Precision'] = precision\n",
    "kNN_temp.loc['Recall'] = recall\n",
    "kNN_temp.loc['F1 Score'] = f1\n",
    "\n",
    "kNN_temp"
   ]
  },
  {
   "cell_type": "code",
   "execution_count": 122,
   "id": "4fe8e842",
   "metadata": {},
   "outputs": [
    {
     "data": {
      "text/html": [
       "<div>\n",
       "<style scoped>\n",
       "    .dataframe tbody tr th:only-of-type {\n",
       "        vertical-align: middle;\n",
       "    }\n",
       "\n",
       "    .dataframe tbody tr th {\n",
       "        vertical-align: top;\n",
       "    }\n",
       "\n",
       "    .dataframe thead th {\n",
       "        text-align: right;\n",
       "    }\n",
       "</style>\n",
       "<table border=\"1\" class=\"dataframe\">\n",
       "  <thead>\n",
       "    <tr style=\"text-align: right;\">\n",
       "      <th></th>\n",
       "      <th>LogReg</th>\n",
       "      <th>XGBoost</th>\n",
       "      <th>Random Forest</th>\n",
       "      <th>kNN</th>\n",
       "    </tr>\n",
       "  </thead>\n",
       "  <tbody>\n",
       "    <tr>\n",
       "      <th>Accuracy</th>\n",
       "      <td>0.804</td>\n",
       "      <td>0.858</td>\n",
       "      <td>0.767</td>\n",
       "      <td>0.359</td>\n",
       "    </tr>\n",
       "    <tr>\n",
       "      <th>Precision</th>\n",
       "      <td>0.669</td>\n",
       "      <td>0.785</td>\n",
       "      <td>0.608</td>\n",
       "      <td>0.359</td>\n",
       "    </tr>\n",
       "    <tr>\n",
       "      <th>Recall</th>\n",
       "      <td>0.9</td>\n",
       "      <td>0.831</td>\n",
       "      <td>0.995</td>\n",
       "      <td>1.0</td>\n",
       "    </tr>\n",
       "    <tr>\n",
       "      <th>F1 Score</th>\n",
       "      <td>0.767</td>\n",
       "      <td>0.807</td>\n",
       "      <td>0.755</td>\n",
       "      <td>0.528</td>\n",
       "    </tr>\n",
       "  </tbody>\n",
       "</table>\n",
       "</div>"
      ],
      "text/plain": [
       "          LogReg XGBoost Random Forest    kNN\n",
       "Accuracy   0.804   0.858         0.767  0.359\n",
       "Precision  0.669   0.785         0.608  0.359\n",
       "Recall       0.9   0.831         0.995    1.0\n",
       "F1 Score   0.767   0.807         0.755  0.528"
      ]
     },
     "execution_count": 122,
     "metadata": {},
     "output_type": "execute_result"
    }
   ],
   "source": [
    "results = pd.concat([lr_temp, xgb_temp, rf_temp , kNN_temp] , axis = 1)\n",
    "\n",
    "results"
   ]
  }
 ],
 "metadata": {
  "kernelspec": {
   "display_name": "Python 3",
   "language": "python",
   "name": "python3"
  },
  "language_info": {
   "codemirror_mode": {
    "name": "ipython",
    "version": 3
   },
   "file_extension": ".py",
   "mimetype": "text/x-python",
   "name": "python",
   "nbconvert_exporter": "python",
   "pygments_lexer": "ipython3",
   "version": "3.8.8"
  }
 },
 "nbformat": 4,
 "nbformat_minor": 5
}
